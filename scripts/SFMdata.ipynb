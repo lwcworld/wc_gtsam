{
 "cells": [
  {
   "cell_type": "code",
   "execution_count": null,
   "metadata": {},
   "outputs": [],
   "source": [
    " \n",
    "  # A structure-from-motion example with landmarks\n",
    "  #  - The landmarks form a 10 meter cube\n",
    "  #  - The robot rotates around the landmarks, always facing towards the cube\n",
    "\n",
    "import gtsam\n",
    "import numpy as np\n",
    "\n",
    "def createPoints():\n",
    "\t# Create the set of ground-truth landmarks\n",
    "\tpoints = [gtsam.Point3(10.0,10.0,10.0),\n",
    "\t\t\t  gtsam.Point3(-10.0,10.0,10.0),\n",
    "\t          gtsam.Point3(-10.0,-10.0,10.0),\n",
    "\t          gtsam.Point3(10.0,-10.0,10.0),\n",
    "\t          gtsam.Point3(10.0,10.0,-10.0),\n",
    "\t          gtsam.Point3(-10.0,10.0,-10.0),\n",
    "\t          gtsam.Point3(-10.0,-10.0,-10.0),\n",
    "\t          gtsam.Point3(10.0,-10.0,-10.0)]\n",
    "\treturn points\n",
    "\n",
    "def createPoses():\n",
    "\t# Create the set of ground-truth poses\n",
    "\tradius = 30.0\n",
    "\tangles = np.linspace(0,2*np.pi,8,endpoint=False)\n",
    "\tup = gtsam.Point3(0,0,1)\n",
    "\ttarget = gtsam.Point3(0,0,0)\n",
    "\tposes = []\n",
    "\tfor theta in angles:\n",
    "\t\tposition = gtsam.Point3(radius*np.cos(theta), radius*np.sin(theta), 0.0)\n",
    "\t\tcamera = gtsam.PinholeCameraCal3_S2.Lookat(position, target, up)\n",
    "\t\tposes.append(camera.pose())\n",
    "\treturn poses\n"
   ]
  }
 ],
 "metadata": {
  "kernelspec": {
   "display_name": "Python 2",
   "language": "python",
   "name": "python2"
  },
  "language_info": {
   "codemirror_mode": {
    "name": "ipython",
    "version": 2
   },
   "file_extension": ".py",
   "mimetype": "text/x-python",
   "name": "python",
   "nbconvert_exporter": "python",
   "pygments_lexer": "ipython2",
   "version": "2.7.12"
  }
 },
 "nbformat": 4,
 "nbformat_minor": 2
}
