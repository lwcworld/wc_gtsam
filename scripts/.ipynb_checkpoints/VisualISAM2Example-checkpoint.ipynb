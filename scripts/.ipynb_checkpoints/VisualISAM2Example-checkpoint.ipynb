{
 "cells": [
  {
   "cell_type": "code",
   "execution_count": 1,
   "metadata": {},
   "outputs": [
    {
     "name": "stderr",
     "output_type": "stream",
     "text": [
      "/usr/local/lib/python2.7/dist-packages/gtsam/__init__.py:1: RuntimeWarning: to-Python converter for boost::shared_ptr<gtsam::Cal3_S2> already registered; second conversion method ignored.\n",
      "  from _gtsampy import *\n"
     ]
    }
   ],
   "source": [
    "from __future__ import print_function\n",
    "\n",
    "import matplotlib.pyplot as plt\n",
    "from mpl_toolkits.mplot3d import Axes3D\n",
    "import numpy as np\n",
    "import time  # for sleep()\n",
    "\n",
    "\n",
    "import gtsam\n",
    "from gtsam_examples import SFMdata\n",
    "import gtsam_utils\n",
    "\n",
    "# shorthand symbols:\n",
    "X = lambda i: int(gtsam.Symbol('x', i))\n",
    "L = lambda j: int(gtsam.Symbol('l', j))\n"
   ]
  },
  {
   "cell_type": "code",
   "execution_count": 2,
   "metadata": {},
   "outputs": [],
   "source": [
    "def visual_ISAM2_plot(poses, points, result):\n",
    "    # VisualISAMPlot plots current state of ISAM2 object\n",
    "    # Author: Ellon Paiva\n",
    "    # Based on MATLAB version by: Duy Nguyen Ta and Frank Dellaert\n",
    "\n",
    "    # Declare an id for the figure\n",
    "    fignum = 0\n",
    "\n",
    "    fig = plt.figure(fignum)\n",
    "    ax = fig.gca(projection='3d')\n",
    "    plt.cla()\n",
    "\n",
    "    # Plot points\n",
    "    # Can't use data because current frame might not see all points\n",
    "    # marginals = Marginals(isam.getFactorsUnsafe(), isam.calculateEstimate()) # TODO - this is slow\n",
    "    # gtsam.plot3DPoints(result, [], marginals)\n",
    "    gtsam_utils.plot3DPoints(fignum, result, 'rx')\n",
    "\n",
    "    # Plot cameras\n",
    "    i = 0\n",
    "    while result.exists(X(i)):\n",
    "        pose_i = result.atPose3(X(i))\n",
    "        gtsam_utils.plotPose3(fignum, pose_i, 10)\n",
    "        i += 1\n",
    "\n",
    "    # draw\n",
    "    ax.set_xlim3d(-40, 40)\n",
    "    ax.set_ylim3d(-40, 40)\n",
    "    ax.set_zlim3d(-40, 40)\n",
    "    plt.pause(1)\n"
   ]
  },
  {
   "cell_type": "code",
   "execution_count": 3,
   "metadata": {},
   "outputs": [
    {
     "name": "stdout",
     "output_type": "stream",
     "text": [
      "123\n"
     ]
    }
   ],
   "source": [
    "def visual_ISAM2_example():   \n",
    "    plt.ion()\n",
    "\n",
    "    # Define the camera calibration parameters\n",
    "    K = gtsam.Cal3_S2(50.0, 50.0, 0.0, 50.0, 50.0)\n",
    "\n",
    "    # Define the camera observation noise model\n",
    "    measurementNoise = gtsam.noiseModel.Isotropic.Sigma(2, 1.0)  # one pixel in u and v\n",
    "\n",
    "    # Create the set of ground-truth landmarks\n",
    "    points = SFMdata.createPoints()\n",
    "\n",
    "    # Create the set of ground-truth poses\n",
    "    poses = SFMdata.createPoses()\n",
    "\n",
    "    # Create an iSAM2 object. Unlike iSAM1, which performs periodic batch steps to maintain proper linearization\n",
    "    # and efficient variable ordering, iSAM2 performs partial relinearization/reordering at each step. A parameter\n",
    "    # structure is available that allows the user to set various properties, such as the relinearization threshold\n",
    "    # and type of linear solver. For this example, we we set the relinearization threshold small so the iSAM2 result\n",
    "    # will approach the batch result.\n",
    "    parameters = gtsam.ISAM2Params()\n",
    "    parameters.relinearize_threshold = 0.01\n",
    "    parameters.relinearize_skip = 1\n",
    "    isam = gtsam.ISAM2(parameters)\n",
    "\n",
    "    # Create a Factor Graph and Values to hold the new data\n",
    "    graph = gtsam.NonlinearFactorGraph()\n",
    "    initialEstimate = gtsam.Values()\n",
    "\n",
    "    #  Loop over the different poses, adding the observations to iSAM incrementally\n",
    "    for i, pose in enumerate(poses):\n",
    "\n",
    "        # Add factors for each landmark observation\n",
    "        for j, point in enumerate(points):\n",
    "            camera = gtsam.PinholeCameraCal3_S2(pose, K)\n",
    "            measurement = camera.project(point)\n",
    "            graph.push_back(gtsam.GenericProjectionFactorCal3_S2(measurement, measurementNoise, X(i), L(j), K))\n",
    "\n",
    "        # Add an initial guess for the current pose\n",
    "        # Intentionally initialize the variables off from the ground truth\n",
    "        initialEstimate.insert(X(i), pose.compose(gtsam.Pose3(gtsam.Rot3.Rodrigues(-0.1, 0.2, 0.25), gtsam.Point3(0.05, -0.10, 0.20))))\n",
    "\n",
    "        # If this is the first iteration, add a prior on the first pose to set the coordinate frame\n",
    "        # and a prior on the first landmark to set the scale\n",
    "        # Also, as iSAM solves incrementally, we must wait until each is observed at least twice before\n",
    "        # adding it to iSAM.\n",
    "        if(i == 0):\n",
    "            # Add a prior on pose x0\n",
    "            poseNoise = gtsam.noiseModel.Diagonal.Sigmas(np.array([0.3, 0.3, 0.3, 0.1, 0.1, 0.1]))  # 30cm std on x,y,z 0.1 rad on roll,pitch,yaw\n",
    "            graph.push_back(gtsam.PriorFactorPose3(X(0), poses[0], poseNoise))\n",
    "\n",
    "            # Add a prior on landmark l0\n",
    "            pointNoise = gtsam.noiseModel.Isotropic.Sigma(3, 0.1)\n",
    "            graph.push_back(gtsam.PriorFactorPoint3(L(0), points[0], pointNoise))  # add directly to graph\n",
    "            \n",
    "            # Add initial guesses to all observed landmarks\n",
    "            # Intentionally initialize the variables off from the ground truth\n",
    "            for j, point in enumerate(points):\n",
    "                print('1')\n",
    "                print(point)\n",
    "                initialEstimate.insert(L(j), point + gtsam.Point3(-0.25, 0.20, 0.15))\n",
    "        else:\n",
    "            # Update iSAM with the new factors\n",
    "            isam.update(graph, initialEstimate)\n",
    "            # Each call to iSAM2 update(*) performs one iteration of the iterative nonlinear solver.\n",
    "            # If accuracy is desired at the expense of time, update(*) can be called additional times\n",
    "            # to perform multiple optimizer iterations every step.\n",
    "            isam.update()\n",
    "            currentEstimate = isam.calculate_estimate()\n",
    "            print(\"****************************************************\")\n",
    "            print(\"Frame\", i, \":\")\n",
    "            for j in range(i + 1):\n",
    "                print(X(j), \":\", currentEstimate.atPose3(X(j)))\n",
    "\n",
    "            for j in range(len(points)):\n",
    "                print(L(j), \":\", currentEstimate.atPoint3(L(j)))\n",
    "\n",
    "            visual_ISAM2_plot(poses, points, currentEstimate)\n",
    "\n",
    "            # Clear the factor graph and values for the next iteration\n",
    "            graph.resize(0)\n",
    "            initialEstimate.clear()\n",
    "            \n",
    "    plt.ioff()\n",
    "    plt.show()\n",
    "print('123')"
   ]
  },
  {
   "cell_type": "code",
   "execution_count": null,
   "metadata": {},
   "outputs": [],
   "source": [
    "if __name__ == '__main__':\n",
    "    visual_ISAM2_example()"
   ]
  },
  {
   "cell_type": "code",
   "execution_count": null,
   "metadata": {},
   "outputs": [],
   "source": []
  },
  {
   "cell_type": "code",
   "execution_count": null,
   "metadata": {},
   "outputs": [],
   "source": []
  },
  {
   "cell_type": "code",
   "execution_count": null,
   "metadata": {},
   "outputs": [],
   "source": []
  },
  {
   "cell_type": "code",
   "execution_count": null,
   "metadata": {},
   "outputs": [],
   "source": []
  },
  {
   "cell_type": "code",
   "execution_count": null,
   "metadata": {},
   "outputs": [],
   "source": []
  }
 ],
 "metadata": {
  "kernelspec": {
   "display_name": "Python 2",
   "language": "python",
   "name": "python2"
  },
  "language_info": {
   "codemirror_mode": {
    "name": "ipython",
    "version": 2
   },
   "file_extension": ".py",
   "mimetype": "text/x-python",
   "name": "python",
   "nbconvert_exporter": "python",
   "pygments_lexer": "ipython2",
   "version": "2.7.12"
  }
 },
 "nbformat": 4,
 "nbformat_minor": 2
}
